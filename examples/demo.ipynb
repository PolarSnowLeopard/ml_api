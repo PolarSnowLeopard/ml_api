{
 "cells": [
  {
   "cell_type": "code",
   "execution_count": 25,
   "metadata": {},
   "outputs": [],
   "source": [
    "import requests\n",
    "import numpy as np\n",
    "import pandas as pd\n",
    "import json"
   ]
  },
  {
   "cell_type": "code",
   "execution_count": 33,
   "metadata": {},
   "outputs": [
    {
     "name": "stdout",
     "output_type": "stream",
     "text": [
      "可用数据集: {\n",
      "    \"datasets\": [\n",
      "        {\n",
      "            \"dataset_id\": \"built_in_iris\",\n",
      "            \"name\": \"iris\",\n",
      "            \"description\": \".. _iris_dataset:\\n\\nIris plants dataset\\n--------------------\\n\\n**Data Set Characteristics:**\\n\\n:Number of Instances: 150 (50 in each of three classes)\\n:Number of Attributes: 4 numeric, predictive attributes and the class\\n:Attribute Information:\\n    - sepal length in cm\\n    - sepal width in cm\\n    - petal length in cm\\n    - petal width in cm\\n    - class:\\n            - Iris-Setosa\\n            - Iris-Versicolour\\n            - Iris-Virginica\\n\\n:Summary Statistics:\\n\\n============== ==== ==== ======= ===== ====================\\n                Min  Max   Mean    SD   Class Correlation\\n============== ==== ==== ======= ===== ====================\\nsepal length:   4.3  7.9   5.84   0.83    0.7826\\nsepal width:    2.0  4.4   3.05   0.43   -0.4194\\npetal length:   1.0  6.9   3.76   1.76    0.9490  (high!)\\npetal width:    0.1  2.5   1.20   0.76    0.9565  (high!)\\n============== ==== ==== ======= ===== ====================\\n\\n:Missing Attribute Values: None\\n:Class Distribution: 33.3% for each of 3 classes.\\n:Creator: R.A. Fisher\\n:Donor: Michael Marshall (MARSHALL%PLU@io.arc.nasa.gov)\\n:Date: July, 1988\\n\\nThe famous Iris database, first used by Sir R.A. Fisher. The dataset is taken\\nfrom Fisher's paper. Note that it's the same as in R, but not as in the UCI\\nMachine Learning Repository, which has two wrong data points.\\n\\nThis is perhaps the best known database to be found in the\\npattern recognition literature.  Fisher's paper is a classic in the field and\\nis referenced frequently to this day.  (See Duda & Hart, for example.)  The\\ndata set contains 3 classes of 50 instances each, where each class refers to a\\ntype of iris plant.  One class is linearly separable from the other 2; the\\nlatter are NOT linearly separable from each other.\\n\\n.. dropdown:: References\\n\\n  - Fisher, R.A. \\\"The use of multiple measurements in taxonomic problems\\\"\\n    Annual Eugenics, 7, Part II, 179-188 (1936); also in \\\"Contributions to\\n    Mathematical Statistics\\\" (John Wiley, NY, 1950).\\n  - Duda, R.O., & Hart, P.E. (1973) Pattern Classification and Scene Analysis.\\n    (Q327.D83) John Wiley & Sons.  ISBN 0-471-22361-1.  See page 218.\\n  - Dasarathy, B.V. (1980) \\\"Nosing Around the Neighborhood: A New System\\n    Structure and Classification Rule for Recognition in Partially Exposed\\n    Environments\\\".  IEEE Transactions on Pattern Analysis and Machine\\n    Intelligence, Vol. PAMI-2, No. 1, 67-71.\\n  - Gates, G.W. (1972) \\\"The Reduced Nearest Neighbor Rule\\\".  IEEE Transactions\\n    on Information Theory, May 1972, 431-433.\\n  - See also: 1988 MLC Proceedings, 54-64.  Cheeseman et al\\\"s AUTOCLASS II\\n    conceptual clustering system finds 3 classes in the data.\\n  - Many, many more ...\\n\",\n",
      "            \"shape\": {\n",
      "                \"samples\": 150,\n",
      "                \"features\": 4\n",
      "            },\n",
      "            \"type\": \"built_in\",\n",
      "            \"creation_time\": \"2024-12-09T17:22:21.402144\"\n",
      "        },\n",
      "        {\n",
      "            \"dataset_id\": \"built_in_breast_cancer\",\n",
      "            \"name\": \"breast_cancer\",\n",
      "            \"description\": \".. _breast_cancer_dataset:\\n\\nBreast cancer wisconsin (diagnostic) dataset\\n--------------------------------------------\\n\\n**Data Set Characteristics:**\\n\\n:Number of Instances: 569\\n\\n:Number of Attributes: 30 numeric, predictive attributes and the class\\n\\n:Attribute Information:\\n    - radius (mean of distances from center to points on the perimeter)\\n    - texture (standard deviation of gray-scale values)\\n    - perimeter\\n    - area\\n    - smoothness (local variation in radius lengths)\\n    - compactness (perimeter^2 / area - 1.0)\\n    - concavity (severity of concave portions of the contour)\\n    - concave points (number of concave portions of the contour)\\n    - symmetry\\n    - fractal dimension (\\\"coastline approximation\\\" - 1)\\n\\n    The mean, standard error, and \\\"worst\\\" or largest (mean of the three\\n    worst/largest values) of these features were computed for each image,\\n    resulting in 30 features.  For instance, field 0 is Mean Radius, field\\n    10 is Radius SE, field 20 is Worst Radius.\\n\\n    - class:\\n            - WDBC-Malignant\\n            - WDBC-Benign\\n\\n:Summary Statistics:\\n\\n===================================== ====== ======\\n                                        Min    Max\\n===================================== ====== ======\\nradius (mean):                        6.981  28.11\\ntexture (mean):                       9.71   39.28\\nperimeter (mean):                     43.79  188.5\\narea (mean):                          143.5  2501.0\\nsmoothness (mean):                    0.053  0.163\\ncompactness (mean):                   0.019  0.345\\nconcavity (mean):                     0.0    0.427\\nconcave points (mean):                0.0    0.201\\nsymmetry (mean):                      0.106  0.304\\nfractal dimension (mean):             0.05   0.097\\nradius (standard error):              0.112  2.873\\ntexture (standard error):             0.36   4.885\\nperimeter (standard error):           0.757  21.98\\narea (standard error):                6.802  542.2\\nsmoothness (standard error):          0.002  0.031\\ncompactness (standard error):         0.002  0.135\\nconcavity (standard error):           0.0    0.396\\nconcave points (standard error):      0.0    0.053\\nsymmetry (standard error):            0.008  0.079\\nfractal dimension (standard error):   0.001  0.03\\nradius (worst):                       7.93   36.04\\ntexture (worst):                      12.02  49.54\\nperimeter (worst):                    50.41  251.2\\narea (worst):                         185.2  4254.0\\nsmoothness (worst):                   0.071  0.223\\ncompactness (worst):                  0.027  1.058\\nconcavity (worst):                    0.0    1.252\\nconcave points (worst):               0.0    0.291\\nsymmetry (worst):                     0.156  0.664\\nfractal dimension (worst):            0.055  0.208\\n===================================== ====== ======\\n\\n:Missing Attribute Values: None\\n\\n:Class Distribution: 212 - Malignant, 357 - Benign\\n\\n:Creator:  Dr. William H. Wolberg, W. Nick Street, Olvi L. Mangasarian\\n\\n:Donor: Nick Street\\n\\n:Date: November, 1995\\n\\nThis is a copy of UCI ML Breast Cancer Wisconsin (Diagnostic) datasets.\\nhttps://goo.gl/U2Uwz2\\n\\nFeatures are computed from a digitized image of a fine needle\\naspirate (FNA) of a breast mass.  They describe\\ncharacteristics of the cell nuclei present in the image.\\n\\nSeparating plane described above was obtained using\\nMultisurface Method-Tree (MSM-T) [K. P. Bennett, \\\"Decision Tree\\nConstruction Via Linear Programming.\\\" Proceedings of the 4th\\nMidwest Artificial Intelligence and Cognitive Science Society,\\npp. 97-101, 1992], a classification method which uses linear\\nprogramming to construct a decision tree.  Relevant features\\nwere selected using an exhaustive search in the space of 1-4\\nfeatures and 1-3 separating planes.\\n\\nThe actual linear program used to obtain the separating plane\\nin the 3-dimensional space is that described in:\\n[K. P. Bennett and O. L. Mangasarian: \\\"Robust Linear\\nProgramming Discrimination of Two Linearly Inseparable Sets\\\",\\nOptimization Methods and Software 1, 1992, 23-34].\\n\\nThis database is also available through the UW CS ftp server:\\n\\nftp ftp.cs.wisc.edu\\ncd math-prog/cpo-dataset/machine-learn/WDBC/\\n\\n.. dropdown:: References\\n\\n  - W.N. Street, W.H. Wolberg and O.L. Mangasarian. Nuclear feature extraction\\n    for breast tumor diagnosis. IS&T/SPIE 1993 International Symposium on\\n    Electronic Imaging: Science and Technology, volume 1905, pages 861-870,\\n    San Jose, CA, 1993.\\n  - O.L. Mangasarian, W.N. Street and W.H. Wolberg. Breast cancer diagnosis and\\n    prognosis via linear programming. Operations Research, 43(4), pages 570-577,\\n    July-August 1995.\\n  - W.H. Wolberg, W.N. Street, and O.L. Mangasarian. Machine learning techniques\\n    to diagnose breast cancer from fine-needle aspirates. Cancer Letters 77 (1994)\\n    163-171.\\n\",\n",
      "            \"shape\": {\n",
      "                \"samples\": 569,\n",
      "                \"features\": 30\n",
      "            },\n",
      "            \"type\": \"built_in\",\n",
      "            \"creation_time\": \"2024-12-09T17:22:21.404138\"\n",
      "        },\n",
      "        {\n",
      "            \"dataset_id\": \"b2ff525f\",\n",
      "            \"name\": \"my_dataset\",\n",
      "            \"description\": \"\\u81ea\\u5b9a\\u4e49\\u6570\\u636e\\u96c6\",\n",
      "            \"shape\": {\n",
      "                \"samples\": 3,\n",
      "                \"features\": 2\n",
      "            },\n",
      "            \"type\": \"user_uploaded\",\n",
      "            \"creation_time\": \"2024-12-09T17:18:31.860881\"\n",
      "        }\n",
      "    ]\n",
      "}\n"
     ]
    }
   ],
   "source": [
    "# 1. 数据集管理\n",
    "# 查看可用数据集\n",
    "datasets = requests.get('http://localhost:5000/datasets').json()\n",
    "print(\"可用数据集:\", json.dumps(datasets, indent=4))\n"
   ]
  },
  {
   "cell_type": "code",
   "execution_count": 34,
   "metadata": {},
   "outputs": [],
   "source": [
    "# 获取内置数据集\n",
    "iris_data = requests.get('http://localhost:5000/datasets/built_in_iris').json()\n",
    "# print(\"内置数据集:\\n\", json.dumps(iris_data, indent=4))\n"
   ]
  },
  {
   "cell_type": "code",
   "execution_count": 35,
   "metadata": {},
   "outputs": [],
   "source": [
    "# 上传新数据集\n",
    "new_dataset = {\n",
    "    'name': 'my_dataset',\n",
    "    'description': '自定义数据集',\n",
    "    'X': [[1, 2], [3, 4], [5, 6]],\n",
    "    'y': [0, 1, 0],\n",
    "    'feature_names': ['feature1', 'feature2'],\n",
    "    'target_names': ['class0', 'class1']\n",
    "}\n",
    "response = requests.post('http://localhost:5000/datasets', json=new_dataset)\n",
    "dataset_id = response.json()['dataset_id']"
   ]
  },
  {
   "cell_type": "code",
   "execution_count": 47,
   "metadata": {},
   "outputs": [
    {
     "name": "stdout",
     "output_type": "stream",
     "text": [
      "{'X': [[1, 2], [3, 4], [5, 6]], 'y': [0, 1, 0], 'meta_data': {'name': 'my_dataset', 'description': '自定义数据集', 'feature_names': ['feature1', 'feature2'], 'target_names': ['class0', 'class1'], 'shape': {'samples': 3, 'features': 2}, 'type': 'user_uploaded', 'creation_time': '2024-12-09T17:24:07.208705'}}\n"
     ]
    }
   ],
   "source": [
    "data = requests.get(f'http://localhost:5000/datasets/{dataset_id}').json()\n",
    "print(data)\n",
    "X = data['X']\n",
    "y = data['y']\n",
    "meta_data = data['meta_data']\n"
   ]
  },
  {
   "cell_type": "code",
   "execution_count": 37,
   "metadata": {},
   "outputs": [],
   "source": [
    "# 2. 使用数据集训练模型\n",
    "response = requests.post('http://localhost:5000/train', json={\n",
    "    'dataset_id': dataset_id,  # 使用已上传的数据集\n",
    "    'model_type': 'logistic',\n",
    "    'params': {'max_iter': 1000}\n",
    "})\n",
    "model_id = response.json()['model_id']"
   ]
  },
  {
   "cell_type": "code",
   "execution_count": 48,
   "metadata": {},
   "outputs": [
    {
     "name": "stdout",
     "output_type": "stream",
     "text": [
      "{'predictions': [0, 0, 0]}\n"
     ]
    }
   ],
   "source": [
    "# 3. 预测\n",
    "predictions = requests.post('http://localhost:5000/predict', json={\n",
    "    'X': X,\n",
    "    'model_id': model_id\n",
    "}).json()\n",
    "print(predictions)"
   ]
  },
  {
   "cell_type": "code",
   "execution_count": 51,
   "metadata": {},
   "outputs": [
    {
     "name": "stdout",
     "output_type": "stream",
     "text": [
      "{'accuracy': 0.6666666666666666, 'precision': 0.4444444444444444, 'recall': 0.6666666666666666, 'f1': 0.5333333333333333, 'confusion_matrix': [[2, 0], [1, 0]]}\n"
     ]
    }
   ],
   "source": [
    "# 4. 评估模型\n",
    "evaluation = requests.post('http://localhost:5000/evaluate', json={\n",
    "    'X': X,\n",
    "    'y': y,\n",
    "    'model_id': model_id,\n",
    "    'metrics': ['accuracy', 'precision', 'recall', 'f1', 'confusion_matrix']\n",
    "}).json()"
   ]
  },
  {
   "cell_type": "code",
   "execution_count": 53,
   "metadata": {},
   "outputs": [
    {
     "name": "stdout",
     "output_type": "stream",
     "text": [
      "{'image': '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'}\n"
     ]
    }
   ],
   "source": [
    "# 5. 可视化\n",
    "visualization = requests.post('http://localhost:5000/visualize', json={\n",
    "    'X': X,\n",
    "    'y': y,\n",
    "    'model_id': model_id,\n",
    "    'plot_type': 'scatter'\n",
    "}).json()\n",
    "\n",
    "# base64转图片\n",
    "# import base64\n",
    "# from PIL import Image\n",
    "# from io import BytesIO\n",
    "\n",
    "# image = Image.open(BytesIO(base64.b64decode(visualization['image'])))\n",
    "# image.show()\n"
   ]
  },
  {
   "cell_type": "code",
   "execution_count": 57,
   "metadata": {},
   "outputs": [
    {
     "name": "stdout",
     "output_type": "stream",
     "text": [
      "{\n",
      "    \"report_time\": \"2024-12-09T17:35:21.230534\",\n",
      "    \"report_sections\": {\n",
      "        \"dataset_analysis\": {\n",
      "            \"summary\": \"\\u6570\\u636e\\u96c6'iris'\\u5305\\u542b3\\u4e2a\\u6837\\u672c\\uff0c2\\u4e2a\\u7279\\u5f81\\u3002\",\n",
      "            \"feature_importance\": [\n",
      "                \"\\u7279\\u5f81'feature1'\\u7684\\u91cd\\u8981\\u6027\\u5206\\u6790\",\n",
      "                \"\\u7279\\u5f81'feature2'\\u7684\\u91cd\\u8981\\u6027\\u5206\\u6790\"\n",
      "            ],\n",
      "            \"data_distribution\": \"\\u6570\\u636e\\u5206\\u5e03\\u5206\\u6790\\u7ed3\\u679c\"\n",
      "        },\n",
      "        \"model_analysis\": {\n",
      "            \"model_type\": \"logistic\",\n",
      "            \"parameters\": \"\\u6a21\\u578b\\u4f7f\\u7528\\u7684\\u53c2\\u6570\\u914d\\u7f6e\\u5206\\u6790\",\n",
      "            \"structure_summary\": \"logistic\\u6a21\\u578b\\u7ed3\\u6784\\u6982\\u8ff0\"\n",
      "        },\n",
      "        \"performance_analysis\": {\n",
      "            \"metrics_summary\": \"\\u51c6\\u786e\\u7387: 66.67% \\u7cbe\\u786e\\u7387: 44.44% \\u53ec\\u56de\\u7387: 66.67% F1\\u5206\\u6570: 53.33%\",\n",
      "            \"prediction_analysis\": \"\\u9884\\u6d4b\\u7ed3\\u679c\\u5206\\u5e03\\u5206\\u6790\",\n",
      "            \"visualization_summary\": \"\\u53ef\\u89c6\\u5316\\u7ed3\\u679c\\u5206\\u6790\\uff0c\\u5305\\u542b1\\u5f20\\u56fe\\u8868\"\n",
      "        },\n",
      "        \"recommendations\": {\n",
      "            \"model_improvements\": [\n",
      "                \"\\u6839\\u636e\\u6a21\\u578b\\u6027\\u80fd\\u63d0\\u51fa\\u7684\\u6539\\u8fdb\\u5efa\\u8bae\"\n",
      "            ],\n",
      "            \"feature_suggestions\": [\n",
      "                \"\\u7279\\u5f81\\u5de5\\u7a0b\\u4f18\\u5316\\u5efa\\u8bae\"\n",
      "            ],\n",
      "            \"parameter_tuning\": [\n",
      "                \"\\u53c2\\u6570\\u8c03\\u4f18\\u5efa\\u8bae\"\n",
      "            ]\n",
      "        }\n",
      "    },\n",
      "    \"conclusion\": \"\\u6a21\\u578b\\u8868\\u73b0\\u6709\\u5f85\\u63d0\\u5347\\uff0c\\ufffd\\ufffd\\ufffd\\u786e\\u7387\\u4e3a66.67% \\u57fa\\u4e8eiris\\u6570\\u636e\\u96c6\\u7684\\u5206\\u6790\\u5df2\\u5b8c\\u6210 \\u8be6\\u7ec6\\u7684\\u6539\\u8fdb\\u5efa\\u8bae\\u8bf7\\u53c2\\u8003recommendations\\u90e8\\u5206\"\n",
      "}\n"
     ]
    }
   ],
   "source": [
    "# 6. 生成综合报告\n",
    "report = requests.post('http://localhost:5000/generate_report', json={\n",
    "    'model_id': model_id,\n",
    "    'dataset_info': {\n",
    "        'name': 'iris',\n",
    "        'description': meta_data['description'],\n",
    "        'feature_names': meta_data['feature_names'],\n",
    "        'target_names': meta_data['target_names'],\n",
    "        'shape': list(meta_data['shape'].values())\n",
    "    },\n",
    "    'training_info': {\n",
    "        'model_type': 'logistic',\n",
    "        'parameters': {},\n",
    "        'training_time': '2023-XX-XX...',\n",
    "        'convergence_info': '模型收敛信息'\n",
    "    },\n",
    "    'prediction_results': {\n",
    "        'sample_predictions': predictions['predictions'][:5],\n",
    "        'prediction_distribution': {'0': 30, '1': 40, '2': 30}\n",
    "    },\n",
    "    'evaluation_results': evaluation,\n",
    "    'visualization_results': {\n",
    "        'plots': [visualization['image']]\n",
    "    }\n",
    "}).json()\n",
    "print(json.dumps(report, indent=4))"
   ]
  },
  {
   "cell_type": "code",
   "execution_count": 60,
   "metadata": {},
   "outputs": [
    {
     "data": {
      "text/plain": [
       "<Response [404]>"
      ]
     },
     "execution_count": 60,
     "metadata": {},
     "output_type": "execute_result"
    }
   ],
   "source": [
    "# 清理（可选）\n",
    "# 删除数据集\n",
    "requests.delete(f'http://localhost:5000/datasets/{dataset_id}')\n",
    "# 删除模型\n",
    "requests.delete(f'http://localhost:5000/models/{model_id}')"
   ]
  }
 ],
 "metadata": {
  "kernelspec": {
   "display_name": "mock-api",
   "language": "python",
   "name": "python3"
  },
  "language_info": {
   "codemirror_mode": {
    "name": "ipython",
    "version": 3
   },
   "file_extension": ".py",
   "mimetype": "text/x-python",
   "name": "python",
   "nbconvert_exporter": "python",
   "pygments_lexer": "ipython3",
   "version": "3.10.15"
  }
 },
 "nbformat": 4,
 "nbformat_minor": 2
}
